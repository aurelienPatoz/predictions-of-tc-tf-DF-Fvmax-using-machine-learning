{
 "cells": [
  {
   "cell_type": "markdown",
   "metadata": {},
   "source": [
    "# Machine Learning from Sensor and Anthropometric to predict Force Plate Data"
   ]
  },
  {
   "cell_type": "code",
   "execution_count": 1,
   "metadata": {},
   "outputs": [],
   "source": [
    "import os\n",
    "import random\n",
    "import numpy as np\n",
    "import pandas as pd\n",
    "import seaborn as sns\n",
    "import joblib as joblib\n",
    "from scipy import stats\n",
    "from sklearn.svm import SVR\n",
    "from sklearn.model_selection import train_test_split\n",
    "from sklearn.tree import DecisionTreeRegressor\n",
    "from sklearn.ensemble import RandomForestRegressor\n",
    "from sklearn.linear_model import LinearRegression\n",
    "from sklearn.linear_model import Ridge\n",
    "from sklearn.linear_model import Lasso\n",
    "from sklearn.linear_model import RANSACRegressor\n",
    "from sklearn.svm import LinearSVR\n",
    "from sklearn.model_selection import ParameterGrid\n",
    "from sklearn.preprocessing import StandardScaler\n",
    "from sklearn.model_selection import KFold\n",
    "from sklearn.pipeline import Pipeline\n",
    "from sklearn.metrics import confusion_matrix\n",
    "from sklearn.metrics import roc_curve\n",
    "from sklearn.metrics import auc\n",
    "from sklearn.metrics import accuracy_score\n",
    "import matplotlib.pyplot as plt\n",
    "from matplotlib.markers import MarkerStyle\n",
    "from matplotlib.ticker import AutoMinorLocator\n",
    "from matplotlib import cm\n",
    "import matplotlib as mpl\n",
    "from mpl_toolkits.axes_grid1 import make_axes_locatable\n",
    "\n",
    "import tensorflow as tf\n",
    "from tensorflow.keras import Sequential\n",
    "from tensorflow.keras.layers import Dense\n",
    "from tensorflow.keras import optimizers\n",
    "from tensorflow.keras import losses\n",
    "from tensorflow.keras import metrics\n",
    "import tensorflow.keras as keras\n",
    "from tensorflow.saved_model import save\n",
    "from tensorflow.keras.models import load_model\n",
    "from tensorflow.keras.wrappers.scikit_learn import KerasClassifier\n",
    "\n",
    "%matplotlib inline\n",
    "\n",
    "plt.style.use(['default'])\n",
    "\n",
    "test_size = 0.2\n",
    "\n",
    "Nruns = 5\n",
    "\n",
    "verbose = 0\n",
    "\n",
    "shuffle = False\n",
    "\n",
    "if shuffle:\n",
    "  random_state = 0\n",
    "else:\n",
    "  random_state = None\n",
    "\n",
    "output = pd.DataFrame()\n",
    "\n",
    "seed = 0\n",
    "\n",
    "tf.random.set_seed(0)"
   ]
  },
  {
   "cell_type": "markdown",
   "metadata": {},
   "source": [
    "#### Read the data"
   ]
  },
  {
   "cell_type": "code",
   "execution_count": 2,
   "metadata": {},
   "outputs": [
    {
     "data": {
      "text/html": [
       "<div>\n",
       "<style scoped>\n",
       "    .dataframe tbody tr th:only-of-type {\n",
       "        vertical-align: middle;\n",
       "    }\n",
       "\n",
       "    .dataframe tbody tr th {\n",
       "        vertical-align: top;\n",
       "    }\n",
       "\n",
       "    .dataframe thead th {\n",
       "        text-align: right;\n",
       "    }\n",
       "</style>\n",
       "<table border=\"1\" class=\"dataframe\">\n",
       "  <thead>\n",
       "    <tr style=\"text-align: right;\">\n",
       "      <th></th>\n",
       "      <th>DF</th>\n",
       "      <th>DF_acc</th>\n",
       "      <th>Fmax</th>\n",
       "      <th>Fmax_acc</th>\n",
       "      <th>SF</th>\n",
       "      <th>gender</th>\n",
       "      <th>height</th>\n",
       "      <th>id</th>\n",
       "      <th>mass</th>\n",
       "      <th>speed</th>\n",
       "      <th>stride_frequency_acc</th>\n",
       "      <th>tc</th>\n",
       "      <th>tc_acc</th>\n",
       "      <th>tce</th>\n",
       "      <th>tce_acc</th>\n",
       "      <th>tf</th>\n",
       "      <th>tf_acc</th>\n",
       "      <th>tfe</th>\n",
       "      <th>tfe_acc</th>\n",
       "    </tr>\n",
       "  </thead>\n",
       "  <tbody>\n",
       "    <tr>\n",
       "      <th>0</th>\n",
       "      <td>39.486609</td>\n",
       "      <td>36.128567</td>\n",
       "      <td>2.206896</td>\n",
       "      <td>2.386766</td>\n",
       "      <td>1.320652</td>\n",
       "      <td>1.0</td>\n",
       "      <td>1.814</td>\n",
       "      <td>1.0</td>\n",
       "      <td>71.0</td>\n",
       "      <td>9.0</td>\n",
       "      <td>1.321736</td>\n",
       "      <td>299.00</td>\n",
       "      <td>273.355210</td>\n",
       "      <td>185.50</td>\n",
       "      <td>184.100120</td>\n",
       "      <td>79.50</td>\n",
       "      <td>104.831485</td>\n",
       "      <td>193.25</td>\n",
       "      <td>194.564290</td>\n",
       "    </tr>\n",
       "    <tr>\n",
       "      <th>1</th>\n",
       "      <td>34.614273</td>\n",
       "      <td>34.777315</td>\n",
       "      <td>2.443751</td>\n",
       "      <td>2.551213</td>\n",
       "      <td>1.325026</td>\n",
       "      <td>1.0</td>\n",
       "      <td>1.814</td>\n",
       "      <td>1.0</td>\n",
       "      <td>71.0</td>\n",
       "      <td>11.0</td>\n",
       "      <td>1.326868</td>\n",
       "      <td>261.25</td>\n",
       "      <td>262.112920</td>\n",
       "      <td>173.75</td>\n",
       "      <td>183.526530</td>\n",
       "      <td>116.25</td>\n",
       "      <td>114.451515</td>\n",
       "      <td>203.75</td>\n",
       "      <td>192.997505</td>\n",
       "    </tr>\n",
       "    <tr>\n",
       "      <th>2</th>\n",
       "      <td>32.026390</td>\n",
       "      <td>34.381069</td>\n",
       "      <td>2.557735</td>\n",
       "      <td>2.590335</td>\n",
       "      <td>1.344306</td>\n",
       "      <td>1.0</td>\n",
       "      <td>1.814</td>\n",
       "      <td>1.0</td>\n",
       "      <td>71.0</td>\n",
       "      <td>13.0</td>\n",
       "      <td>1.344604</td>\n",
       "      <td>238.25</td>\n",
       "      <td>255.725865</td>\n",
       "      <td>163.25</td>\n",
       "      <td>180.693115</td>\n",
       "      <td>133.75</td>\n",
       "      <td>116.127615</td>\n",
       "      <td>208.75</td>\n",
       "      <td>191.162855</td>\n",
       "    </tr>\n",
       "    <tr>\n",
       "      <th>3</th>\n",
       "      <td>35.330573</td>\n",
       "      <td>35.865979</td>\n",
       "      <td>2.526297</td>\n",
       "      <td>2.579239</td>\n",
       "      <td>1.241944</td>\n",
       "      <td>1.0</td>\n",
       "      <td>1.845</td>\n",
       "      <td>2.0</td>\n",
       "      <td>73.0</td>\n",
       "      <td>9.0</td>\n",
       "      <td>1.243967</td>\n",
       "      <td>284.50</td>\n",
       "      <td>288.336215</td>\n",
       "      <td>180.50</td>\n",
       "      <td>187.636545</td>\n",
       "      <td>117.75</td>\n",
       "      <td>113.438255</td>\n",
       "      <td>221.75</td>\n",
       "      <td>214.801370</td>\n",
       "    </tr>\n",
       "    <tr>\n",
       "      <th>4</th>\n",
       "      <td>34.172583</td>\n",
       "      <td>36.186117</td>\n",
       "      <td>2.541977</td>\n",
       "      <td>2.437700</td>\n",
       "      <td>1.292138</td>\n",
       "      <td>1.0</td>\n",
       "      <td>1.845</td>\n",
       "      <td>2.0</td>\n",
       "      <td>73.0</td>\n",
       "      <td>11.0</td>\n",
       "      <td>1.284106</td>\n",
       "      <td>264.50</td>\n",
       "      <td>281.794470</td>\n",
       "      <td>174.25</td>\n",
       "      <td>191.094240</td>\n",
       "      <td>122.50</td>\n",
       "      <td>107.661510</td>\n",
       "      <td>212.75</td>\n",
       "      <td>198.664495</td>\n",
       "    </tr>\n",
       "    <tr>\n",
       "      <th>...</th>\n",
       "      <td>...</td>\n",
       "      <td>...</td>\n",
       "      <td>...</td>\n",
       "      <td>...</td>\n",
       "      <td>...</td>\n",
       "      <td>...</td>\n",
       "      <td>...</td>\n",
       "      <td>...</td>\n",
       "      <td>...</td>\n",
       "      <td>...</td>\n",
       "      <td>...</td>\n",
       "      <td>...</td>\n",
       "      <td>...</td>\n",
       "      <td>...</td>\n",
       "      <td>...</td>\n",
       "      <td>...</td>\n",
       "      <td>...</td>\n",
       "      <td>...</td>\n",
       "      <td>...</td>\n",
       "    </tr>\n",
       "    <tr>\n",
       "      <th>295</th>\n",
       "      <td>38.336334</td>\n",
       "      <td>34.129458</td>\n",
       "      <td>2.286319</td>\n",
       "      <td>2.298037</td>\n",
       "      <td>1.522776</td>\n",
       "      <td>1.0</td>\n",
       "      <td>1.825</td>\n",
       "      <td>115.0</td>\n",
       "      <td>86.0</td>\n",
       "      <td>11.0</td>\n",
       "      <td>1.524588</td>\n",
       "      <td>251.75</td>\n",
       "      <td>223.890160</td>\n",
       "      <td>154.25</td>\n",
       "      <td>150.635725</td>\n",
       "      <td>76.50</td>\n",
       "      <td>103.930035</td>\n",
       "      <td>174.00</td>\n",
       "      <td>177.338905</td>\n",
       "    </tr>\n",
       "    <tr>\n",
       "      <th>296</th>\n",
       "      <td>37.263357</td>\n",
       "      <td>35.047001</td>\n",
       "      <td>2.307996</td>\n",
       "      <td>2.420906</td>\n",
       "      <td>1.520772</td>\n",
       "      <td>1.0</td>\n",
       "      <td>1.825</td>\n",
       "      <td>115.0</td>\n",
       "      <td>86.0</td>\n",
       "      <td>13.0</td>\n",
       "      <td>1.520069</td>\n",
       "      <td>245.00</td>\n",
       "      <td>230.611655</td>\n",
       "      <td>156.00</td>\n",
       "      <td>157.395665</td>\n",
       "      <td>84.00</td>\n",
       "      <td>97.922215</td>\n",
       "      <td>173.25</td>\n",
       "      <td>171.185075</td>\n",
       "    </tr>\n",
       "    <tr>\n",
       "      <th>297</th>\n",
       "      <td>33.626847</td>\n",
       "      <td>33.868893</td>\n",
       "      <td>2.569908</td>\n",
       "      <td>2.539892</td>\n",
       "      <td>1.349239</td>\n",
       "      <td>0.0</td>\n",
       "      <td>1.730</td>\n",
       "      <td>116.0</td>\n",
       "      <td>68.0</td>\n",
       "      <td>9.0</td>\n",
       "      <td>1.349597</td>\n",
       "      <td>249.25</td>\n",
       "      <td>250.989915</td>\n",
       "      <td>157.75</td>\n",
       "      <td>177.876190</td>\n",
       "      <td>121.25</td>\n",
       "      <td>119.221030</td>\n",
       "      <td>212.75</td>\n",
       "      <td>192.297620</td>\n",
       "    </tr>\n",
       "    <tr>\n",
       "      <th>298</th>\n",
       "      <td>33.069507</td>\n",
       "      <td>33.690017</td>\n",
       "      <td>2.590511</td>\n",
       "      <td>2.590751</td>\n",
       "      <td>1.441001</td>\n",
       "      <td>0.0</td>\n",
       "      <td>1.730</td>\n",
       "      <td>116.0</td>\n",
       "      <td>68.0</td>\n",
       "      <td>11.0</td>\n",
       "      <td>1.439266</td>\n",
       "      <td>229.50</td>\n",
       "      <td>234.095610</td>\n",
       "      <td>146.50</td>\n",
       "      <td>167.368760</td>\n",
       "      <td>117.75</td>\n",
       "      <td>113.221300</td>\n",
       "      <td>200.50</td>\n",
       "      <td>179.907965</td>\n",
       "    </tr>\n",
       "    <tr>\n",
       "      <th>299</th>\n",
       "      <td>31.438390</td>\n",
       "      <td>33.781554</td>\n",
       "      <td>2.608380</td>\n",
       "      <td>2.544476</td>\n",
       "      <td>1.514966</td>\n",
       "      <td>0.0</td>\n",
       "      <td>1.730</td>\n",
       "      <td>116.0</td>\n",
       "      <td>68.0</td>\n",
       "      <td>13.0</td>\n",
       "      <td>1.520213</td>\n",
       "      <td>207.50</td>\n",
       "      <td>222.249725</td>\n",
       "      <td>138.25</td>\n",
       "      <td>157.740160</td>\n",
       "      <td>122.50</td>\n",
       "      <td>106.761925</td>\n",
       "      <td>191.50</td>\n",
       "      <td>171.336725</td>\n",
       "    </tr>\n",
       "  </tbody>\n",
       "</table>\n",
       "<p>300 rows × 19 columns</p>\n",
       "</div>"
      ],
      "text/plain": [
       "            DF     DF_acc      Fmax  Fmax_acc        SF  gender  height  \\\n",
       "0    39.486609  36.128567  2.206896  2.386766  1.320652     1.0   1.814   \n",
       "1    34.614273  34.777315  2.443751  2.551213  1.325026     1.0   1.814   \n",
       "2    32.026390  34.381069  2.557735  2.590335  1.344306     1.0   1.814   \n",
       "3    35.330573  35.865979  2.526297  2.579239  1.241944     1.0   1.845   \n",
       "4    34.172583  36.186117  2.541977  2.437700  1.292138     1.0   1.845   \n",
       "..         ...        ...       ...       ...       ...     ...     ...   \n",
       "295  38.336334  34.129458  2.286319  2.298037  1.522776     1.0   1.825   \n",
       "296  37.263357  35.047001  2.307996  2.420906  1.520772     1.0   1.825   \n",
       "297  33.626847  33.868893  2.569908  2.539892  1.349239     0.0   1.730   \n",
       "298  33.069507  33.690017  2.590511  2.590751  1.441001     0.0   1.730   \n",
       "299  31.438390  33.781554  2.608380  2.544476  1.514966     0.0   1.730   \n",
       "\n",
       "        id  mass  speed  stride_frequency_acc      tc      tc_acc     tce  \\\n",
       "0      1.0  71.0    9.0              1.321736  299.00  273.355210  185.50   \n",
       "1      1.0  71.0   11.0              1.326868  261.25  262.112920  173.75   \n",
       "2      1.0  71.0   13.0              1.344604  238.25  255.725865  163.25   \n",
       "3      2.0  73.0    9.0              1.243967  284.50  288.336215  180.50   \n",
       "4      2.0  73.0   11.0              1.284106  264.50  281.794470  174.25   \n",
       "..     ...   ...    ...                   ...     ...         ...     ...   \n",
       "295  115.0  86.0   11.0              1.524588  251.75  223.890160  154.25   \n",
       "296  115.0  86.0   13.0              1.520069  245.00  230.611655  156.00   \n",
       "297  116.0  68.0    9.0              1.349597  249.25  250.989915  157.75   \n",
       "298  116.0  68.0   11.0              1.439266  229.50  234.095610  146.50   \n",
       "299  116.0  68.0   13.0              1.520213  207.50  222.249725  138.25   \n",
       "\n",
       "        tce_acc      tf      tf_acc     tfe     tfe_acc  \n",
       "0    184.100120   79.50  104.831485  193.25  194.564290  \n",
       "1    183.526530  116.25  114.451515  203.75  192.997505  \n",
       "2    180.693115  133.75  116.127615  208.75  191.162855  \n",
       "3    187.636545  117.75  113.438255  221.75  214.801370  \n",
       "4    191.094240  122.50  107.661510  212.75  198.664495  \n",
       "..          ...     ...         ...     ...         ...  \n",
       "295  150.635725   76.50  103.930035  174.00  177.338905  \n",
       "296  157.395665   84.00   97.922215  173.25  171.185075  \n",
       "297  177.876190  121.25  119.221030  212.75  192.297620  \n",
       "298  167.368760  117.75  113.221300  200.50  179.907965  \n",
       "299  157.740160  122.50  106.761925  191.50  171.336725  \n",
       "\n",
       "[300 rows x 19 columns]"
      ]
     },
     "execution_count": 2,
     "metadata": {},
     "output_type": "execute_result"
    }
   ],
   "source": [
    "df = pd.read_csv(\"./data.csv\", index_col = 0)\n",
    "df"
   ]
  },
  {
   "cell_type": "markdown",
   "metadata": {},
   "source": [
    "#### Create a function that plot predicted vs ground truth data"
   ]
  },
  {
   "cell_type": "code",
   "execution_count": 3,
   "metadata": {},
   "outputs": [],
   "source": [
    "def plot_pred_vs_ground_truth(y, y_pred):\n",
    "  fig, axes = plt.subplots(1, 2, figsize = (14, 5))\n",
    "\n",
    "  axes[0].plot(np.arange(np.min(y), np.max(y), 0.5), np.arange(np.min(y), np.max(y), 0.5), '--', c = 'k', lw = 0.8)\n",
    "  axes[1].plot(0 * np.arange(np.min(y), np.max(y), 0.5), np.arange(np.min(y), np.max(y), 0.5), '--', c = 'k', lw = 0.8)\n",
    "  \n",
    "  axes[0].scatter(y_pred, y, s = 50, color = 'k')\n",
    "  axes[1].scatter(y_pred - y, y, s = 50, color = 'k')                           \n",
    "\n",
    "  axes[0].set_ylabel('Ground truth val')\n",
    "  axes[1].set_ylabel('Ground truth val')\n",
    "\n",
    "  axes[0].set_xlabel('Predicted val')\n",
    "  axes[1].set_xlabel('Predicted - Ground truth (∆)')\n",
    "  \n",
    "  R2 = 1 - np.sum((y - y_pred)**2) / np.sum((y - np.mean(y))**2)\n",
    "  r = np.sqrt(R2)\n",
    "  RMSE = np.sqrt(np.sum( (y - y_pred)**2) / len(y))\n",
    "  MAPE = 100 / len(y) * np.sum( np.abs((y - y_pred) / y))\n",
    "  axes[0].text(1, 1.025, \"MAPE = %.3f\\tRMSE = %.3f\\t$r = $ %.3f\\t$R^2 = $ %.3f\" % (MAPE, RMSE, r, R2), transform = axes[0].transAxes, ha = 'right', fontsize = 14)\n",
    "\n",
    "  fig.tight_layout()\n",
    "  plt.show()"
   ]
  },
  {
   "cell_type": "markdown",
   "metadata": {},
   "source": [
    "#### Create a function that plot loss and accuracy"
   ]
  },
  {
   "cell_type": "code",
   "execution_count": 4,
   "metadata": {},
   "outputs": [],
   "source": [
    "def plot_loss_acc(history):\n",
    "  plt.style.use(['default'])\n",
    "  fig, (ax1, ax2) = plt.subplots(nrows=1, ncols=2, figsize=(12, 4))\n",
    "\n",
    "  # Plot accuracy values\n",
    "  ax1.plot(history.history['loss'], label='train loss')\n",
    "  ax1.plot(history.history['val_loss'], label='val loss')\n",
    "  ax1.set_title('Validation loss {:.3f} (mean last 3)'.format(np.mean(history.history['val_loss'][-3:])), fontsize = 12)\n",
    "  ax1.set_xlabel('epoch', fontsize = 12)\n",
    "  ax1.set_ylabel('loss value', fontsize = 12)\n",
    "  ax1.legend(fontsize = 12)\n",
    "\n",
    "  # Plot accuracy values\n",
    "  ax2.plot(history.history['root_mean_squared_error'], label='train rmse')\n",
    "  ax2.plot(history.history['val_root_mean_squared_error'], label='val rmse')\n",
    "  ax2.set_title('Validation mape {:.3f} (mean last 3)'.format(np.mean(history.history['val_root_mean_squared_error'][-3:])), fontsize = 12)\n",
    "  ax2.set_xlabel('epoch', fontsize = 12)\n",
    "  ax2.set_ylabel('root mean squared error', fontsize = 12)\n",
    "  ax2.legend(fontsize = 12)\n",
    "  plt.show()"
   ]
  },
  {
   "cell_type": "markdown",
   "metadata": {},
   "source": [
    "#### Create a function returning a key from a value of a dictionary"
   ]
  },
  {
   "cell_type": "code",
   "execution_count": 5,
   "metadata": {},
   "outputs": [],
   "source": [
    "def get_key_from_value(d, val):\n",
    "    keys = [k for k, v in d.items() if v == val]\n",
    "    if keys:\n",
    "        return keys[0]\n",
    "    return None"
   ]
  },
  {
   "cell_type": "markdown",
   "metadata": {},
   "source": [
    "## Train-test split"
   ]
  },
  {
   "cell_type": "code",
   "execution_count": 6,
   "metadata": {},
   "outputs": [],
   "source": [
    "random.seed(seed)\n",
    "ids = list(df.id.unique())\n",
    "ids_test = random.sample(ids, int(test_size * len(ids)))\n",
    "df_train = df[~df.id.isin(ids_test)]\n",
    "df_test = df[df.id.isin(ids_test)]"
   ]
  },
  {
   "cell_type": "code",
   "execution_count": 7,
   "metadata": {},
   "outputs": [],
   "source": [
    "var = \"DF\"\n",
    "features = [\"mass\", \"stride_frequency_acc\", \"speed\", var + \"_acc\"]"
   ]
  },
  {
   "cell_type": "code",
   "execution_count": 8,
   "metadata": {},
   "outputs": [],
   "source": [
    "y       = df[var].values\n",
    "y_train = df_train[var].values\n",
    "y_test  = df_test[var].values"
   ]
  },
  {
   "cell_type": "markdown",
   "metadata": {},
   "source": [
    "#### stratify train-test split"
   ]
  },
  {
   "cell_type": "code",
   "execution_count": 9,
   "metadata": {},
   "outputs": [],
   "source": [
    "if shuffle:\n",
    "  stratify = y\n",
    "  \n",
    "  X = df[features].values\n",
    "  X_tr, X_te, y_tr, y_te = train_test_split(X, y, test_size = test_size, stratify = stratify, random_state = random_state, shuffle = shuffle)\n",
    "else:\n",
    "  stratify = None\n",
    "  \n",
    "  # basic features\n",
    "  X_tr = df_train[features].values\n",
    "  X_te = df_test[features].values\n",
    "  y_tr = y_train\n",
    "  y_te = y_test"
   ]
  },
  {
   "cell_type": "markdown",
   "metadata": {},
   "source": [
    "## Model using no features"
   ]
  },
  {
   "cell_type": "code",
   "execution_count": 10,
   "metadata": {},
   "outputs": [
    {
     "data": {
      "image/png": "[encoded data removed]",
      "text/plain": [
       "<Figure size 1400x500 with 2 Axes>"
      ]
     },
     "metadata": {},
     "output_type": "display_data"
    },
    {
     "name": "stdout",
     "output_type": "stream",
     "text": [
      "MAPE:  6.103323946843885  ±  5.016461810158908 %\n"
     ]
    }
   ],
   "source": [
    "plot_pred_vs_ground_truth(y_te, df_test[features[-1]].values)\n",
    "y_te_pred_no_model = df_test[features[-1]].values\n",
    "print(\"MAPE: \", np.mean(100 * np.abs((y_te - y_te_pred_no_model))/y_te), \" ± \", np.std(100 * np.abs((y_te - y_te_pred_no_model))/y_te), \"%\")"
   ]
  },
  {
   "cell_type": "markdown",
   "metadata": {},
   "source": [
    "## Model using linear regression"
   ]
  },
  {
   "cell_type": "markdown",
   "metadata": {},
   "source": [
    "#### Create a grid to vary fit_intercept in the linear regression, instantiate a pipeline, and create a KFold object"
   ]
  },
  {
   "cell_type": "code",
   "execution_count": 11,
   "metadata": {},
   "outputs": [],
   "source": [
    "# Define the keys\n",
    "linreg_fit_intercept = 'linReg__fit_intercept'\n",
    "\n",
    "# Define the values\n",
    "fit_intercepts = [True, False]\n",
    "\n",
    "# Define a grid of values\n",
    "grid_dict = { \n",
    "  linreg_fit_intercept: fit_intercepts\n",
    "}\n",
    "\n",
    "grid = ParameterGrid(grid_dict)\n",
    "\n",
    "# create a KFold object\n",
    "kfold = KFold(n_splits = Nruns, random_state = random_state, shuffle = shuffle)"
   ]
  },
  {
   "cell_type": "markdown",
   "metadata": {},
   "source": [
    "#### Create a function to perform cross validation and save scores"
   ]
  },
  {
   "cell_type": "code",
   "execution_count": 12,
   "metadata": {},
   "outputs": [],
   "source": [
    "def get_scores(grid, X_tr, y_tr):\n",
    "  # Create a pipeline\n",
    "  pipe = Pipeline([\n",
    "    ('scaler', StandardScaler()),\n",
    "    ('linReg', LinearRegression(n_jobs = -1))\n",
    "  ])\n",
    "  \n",
    "  scores = []\n",
    "  \n",
    "  for params_dict in grid:\n",
    "    train_accuracy, valid_accuracy = [], []\n",
    "\n",
    "    for train_index, val_index in kfold.split(X_tr, y_tr):\n",
    "      \n",
    "      X_train, X_valid = X_tr[train_index], X_tr[val_index]\n",
    "      y_train, y_valid = y_tr[train_index], y_tr[val_index]\n",
    "\n",
    "      pipe.set_params(**params_dict)\n",
    "      pipe.fit(X_train, y_train)\n",
    "\n",
    "      train_accuracy.append(pipe.score(X_train, y_train))\n",
    "      valid_accuracy.append(pipe.score(X_valid, y_valid))\n",
    "    \n",
    "    mean_train_acc = np.mean(np.array(train_accuracy))\n",
    "    std_train_acc  = np.std(np.array(train_accuracy))\n",
    "  \n",
    "    mean_valid_acc = np.mean(np.array(valid_accuracy))\n",
    "    std_valid_acc  = np.std(np.array(valid_accuracy))\n",
    "  \n",
    "    params_dict[\"mean_train_accuracy\"] = mean_train_acc\n",
    "    params_dict[\"std_train_accuracy\"]  = std_train_acc\n",
    "  \n",
    "    params_dict[\"mean_valid_accuracy\"] = mean_valid_acc\n",
    "    params_dict[\"std_valid_accuracy\"]  = std_valid_acc\n",
    "  \n",
    "    scores.append(params_dict)\n",
    "\n",
    "  # sort scores according to the mean validation accuracy\n",
    "  scores = pd.DataFrame(scores)\n",
    "  sorted_scores = scores.sort_values(by = 'mean_valid_accuracy', ascending = False)\n",
    "  \n",
    "  return pipe, scores, sorted_scores"
   ]
  },
  {
   "cell_type": "markdown",
   "metadata": {},
   "source": [
    "#### Create a function that get the best score and append it to the dataframe containing all scores"
   ]
  },
  {
   "cell_type": "code",
   "execution_count": 13,
   "metadata": {},
   "outputs": [],
   "source": [
    "def get_best_params(pipe, X_tr, X_te, y_tr, y_te, sorted_scores, name, output):\n",
    "  best_params = {linreg_fit_intercept:sorted_scores.iloc[0][linreg_fit_intercept]}\n",
    "\n",
    "  pipe.set_params(**best_params)\n",
    "  pipe.fit(X_tr, y_tr)\n",
    "  \n",
    "  y_tr_pred = pipe.predict(X_tr)\n",
    "  y_te_pred = pipe.predict(X_te)\n",
    " \n",
    "  data = {}\n",
    "  data[\"model-name\"]         = \"lin-reg__\" + name\n",
    "  data[\"model-fit\"]          = pipe\n",
    "  data[linreg_fit_intercept] = best_params[linreg_fit_intercept]\n",
    "  data[\"train_score\"]        = pipe.score(X_tr, y_tr)\n",
    "  data[\"test_score\"]         = pipe.score(X_te, y_te)\n",
    "  \n",
    "  output = output.append(data, ignore_index = True)\n",
    "  return y_tr_pred, y_te_pred, output"
   ]
  },
  {
   "cell_type": "code",
   "execution_count": 14,
   "metadata": {},
   "outputs": [],
   "source": [
    "pipe, scores, sorted_scores = get_scores(grid, X_tr, y_tr)"
   ]
  },
  {
   "cell_type": "code",
   "execution_count": 15,
   "metadata": {},
   "outputs": [],
   "source": [
    "y_tr_pred, y_te_pred, output = get_best_params(pipe, X_tr, X_te, y_tr, y_te, sorted_scores, \"features\", output)"
   ]
  },
  {
   "cell_type": "code",
   "execution_count": 16,
   "metadata": {},
   "outputs": [
    {
     "data": {
      "text/plain": [
       "array([ 0.74014302,  0.67374334, -1.92203833,  1.56430977])"
      ]
     },
     "execution_count": 16,
     "metadata": {},
     "output_type": "execute_result"
    }
   ],
   "source": [
    "output.iloc[[-1]]\n",
    "output.iloc[[-1]][\"model-fit\"].values[0].named_steps['linReg'].coef_"
   ]
  },
  {
   "cell_type": "code",
   "execution_count": 17,
   "metadata": {},
   "outputs": [
    {
     "data": {
      "image/png": "[encoded data removed]",
      "text/plain": [
       "<Figure size 1400x500 with 2 Axes>"
      ]
     },
     "metadata": {},
     "output_type": "display_data"
    }
   ],
   "source": [
    "plot_pred_vs_ground_truth(y_te, y_te_pred)"
   ]
  },
  {
   "cell_type": "code",
   "execution_count": 18,
   "metadata": {},
   "outputs": [],
   "source": [
    "y_te_pred_lm = y_te_pred"
   ]
  },
  {
   "cell_type": "code",
   "execution_count": 19,
   "metadata": {},
   "outputs": [
    {
     "name": "stdout",
     "output_type": "stream",
     "text": [
      "                      coefficients  standard-errors  t-values  p-values\n",
      "intercept                  34.6795            4.673     7.421    0.0000\n",
      "mass                        0.7401            0.015    49.900    0.0000\n",
      "stride_frequency_acc        0.6737            1.915     0.352    0.7253\n",
      "speed                      -1.9220            0.083   -23.099    0.0000\n",
      "DF_acc                      1.5643            0.102    15.333    0.0000\n"
     ]
    }
   ],
   "source": [
    "coefs = np.append(output.iloc[[-1]][\"model-fit\"].values[0].named_steps['linReg'].intercept_, output.iloc[[-1]][\"model-fit\"].values[0].named_steps['linReg'].coef_)\n",
    "X_tr_new = pd.DataFrame({\"Constant\":np.ones(len(X_tr))}).join(pd.DataFrame(X_tr))\n",
    "mse = np.sum((y_tr - y_tr_pred)**2, axis = 0) / (X_tr_new.shape[0] - X_tr_new.shape[1])\n",
    "variance = mse * (np.linalg.inv(np.dot(X_tr_new.T, X_tr_new)).diagonal())\n",
    "se = np.sqrt(variance)\n",
    "ts = coefs / se\n",
    "p_values = [2 * (1 - stats.t.cdf(np.abs(i), (X_tr_new.shape[0] - X_tr_new.shape[1]))) for i in ts]\n",
    "df_p_values = pd.DataFrame(np.array([np.round(coefs, 4), np.round(se, 3), np.round(ts, 3), np.round(p_values, 4)]).T, columns = [\"coefficients\", \"standard-errors\", \"t-values\", \"p-values\"], index = [\"intercept\", *features])\n",
    "print(df_p_values)"
   ]
  },
  {
   "cell_type": "markdown",
   "metadata": {},
   "source": [
    "## Model using svm rbf"
   ]
  },
  {
   "cell_type": "markdown",
   "metadata": {},
   "source": [
    "#### Create a grid to vary the regularization strength, instantiate a pipeline, and create a KFold object"
   ]
  },
  {
   "cell_type": "code",
   "execution_count": 20,
   "metadata": {},
   "outputs": [],
   "source": [
    "# Define the keys\n",
    "svm_C     = 'svm__C'\n",
    "svm_epsilon = 'svm__epsilon'\n",
    "\n",
    "# Define the values\n",
    "C_values     = np.logspace(-3, 4, num = 20)\n",
    "epsilon_values = np.logspace(-3, 2, num = 20)\n",
    "\n",
    "# Define a grid of values\n",
    "grid_dict = { \n",
    "  svm_C: C_values,  \n",
    "  svm_epsilon: epsilon_values\n",
    "}\n",
    "\n",
    "grid = ParameterGrid(grid_dict)\n",
    "\n",
    "# create a KFold object\n",
    "kfold = KFold(n_splits = Nruns, random_state = random_state, shuffle = shuffle)"
   ]
  },
  {
   "cell_type": "markdown",
   "metadata": {},
   "source": [
    "#### Create a function to perform cross validation and save scores"
   ]
  },
  {
   "cell_type": "code",
   "execution_count": 21,
   "metadata": {},
   "outputs": [],
   "source": [
    "def get_scores(grid, X_tr, y_tr):\n",
    "  # Create a pipeline\n",
    "  pipe = Pipeline([\n",
    "    ('scaler', StandardScaler()),\n",
    "    ('svm', SVR(kernel = 'rbf'))\n",
    "  ])\n",
    "\n",
    "  scores = []\n",
    "  \n",
    "  for params_dict in grid:\n",
    " \n",
    "    train_accuracy, valid_accuracy = [], []\n",
    "\n",
    "    for train_index, val_index in kfold.split(X_tr, y_tr):\n",
    "      \n",
    "      X_train, X_valid = X_tr[train_index], X_tr[val_index]\n",
    "      y_train, y_valid = y_tr[train_index], y_tr[val_index]\n",
    "\n",
    "      pipe.set_params(**params_dict)\n",
    "      pipe.fit(X_train, y_train)\n",
    "\n",
    "      train_accuracy.append(pipe.score(X_train, y_train))\n",
    "      valid_accuracy.append(pipe.score(X_valid, y_valid))\n",
    "    \n",
    "    mean_train_acc = np.mean(np.array(train_accuracy))\n",
    "    std_train_acc  = np.std(np.array(train_accuracy))\n",
    "  \n",
    "    mean_valid_acc = np.mean(np.array(valid_accuracy))\n",
    "    std_valid_acc  = np.std(np.array(valid_accuracy))\n",
    "  \n",
    "    params_dict[\"mean_train_accuracy\"] = mean_train_acc\n",
    "    params_dict[\"std_train_accuracy\"]  = std_train_acc\n",
    "  \n",
    "    params_dict[\"mean_valid_accuracy\"] = mean_valid_acc\n",
    "    params_dict[\"std_valid_accuracy\"]  = std_valid_acc\n",
    "  \n",
    "    scores.append(params_dict)\n",
    "\n",
    "  # sort scores according to the mean validation accuracy\n",
    "  scores = pd.DataFrame(scores)\n",
    "  sorted_scores = scores.sort_values(by = 'mean_valid_accuracy', ascending = False)\n",
    "  \n",
    "  return pipe, scores, sorted_scores"
   ]
  },
  {
   "cell_type": "markdown",
   "metadata": {},
   "source": [
    "#### Create a function that get the best score and append it to the dataframe containing all scores"
   ]
  },
  {
   "cell_type": "code",
   "execution_count": 22,
   "metadata": {},
   "outputs": [],
   "source": [
    "def get_best_params(pipe, X_tr, X_te, y_tr, y_te, sorted_scores, name, output):\n",
    "\n",
    "  best_params = {svm_epsilon:sorted_scores.iloc[0][svm_epsilon], svm_C: sorted_scores.iloc[0][svm_C]}\n",
    "\n",
    "  pipe.set_params(**best_params)\n",
    "  pipe.fit(X_tr, y_tr)\n",
    "\n",
    "  y_tr_pred = pipe.predict(X_tr)\n",
    "  y_te_pred = pipe.predict(X_te)\n",
    "  \n",
    "  data = {}\n",
    "  data[\"model-name\"]         = \"svm-rbf__\" + name\n",
    "  data[\"model-fit\"]          = pipe\n",
    "  data[svm_epsilon]          = best_params[svm_epsilon]\n",
    "  data[svm_C]                = best_params[svm_C]\n",
    "  data[\"train_score\"]        = pipe.score(X_tr, y_tr)\n",
    "  data[\"test_score\"]         = pipe.score(X_te, y_te)\n",
    "  \n",
    "  output = output.append(data, ignore_index = True)\n",
    "  return y_tr_pred, y_te_pred, output"
   ]
  },
  {
   "cell_type": "code",
   "execution_count": 23,
   "metadata": {},
   "outputs": [],
   "source": [
    "pipe, scores, sorted_scores = get_scores(grid, X_tr, y_tr)"
   ]
  },
  {
   "cell_type": "code",
   "execution_count": 24,
   "metadata": {},
   "outputs": [],
   "source": [
    "y_tr_pred, y_te_pred, output = get_best_params(pipe, X_tr, X_te, y_tr, y_te, sorted_scores, \"features\", output)"
   ]
  },
  {
   "cell_type": "code",
   "execution_count": 25,
   "metadata": {},
   "outputs": [
    {
     "data": {
      "text/html": [
       "<div>\n",
       "<style scoped>\n",
       "    .dataframe tbody tr th:only-of-type {\n",
       "        vertical-align: middle;\n",
       "    }\n",
       "\n",
       "    .dataframe tbody tr th {\n",
       "        vertical-align: top;\n",
       "    }\n",
       "\n",
       "    .dataframe thead th {\n",
       "        text-align: right;\n",
       "    }\n",
       "</style>\n",
       "<table border=\"1\" class=\"dataframe\">\n",
       "  <thead>\n",
       "    <tr style=\"text-align: right;\">\n",
       "      <th></th>\n",
       "      <th>linReg__fit_intercept</th>\n",
       "      <th>model-fit</th>\n",
       "      <th>model-name</th>\n",
       "      <th>test_score</th>\n",
       "      <th>train_score</th>\n",
       "      <th>svm__C</th>\n",
       "      <th>svm__epsilon</th>\n",
       "    </tr>\n",
       "  </thead>\n",
       "  <tbody>\n",
       "    <tr>\n",
       "      <th>1</th>\n",
       "      <td>NaN</td>\n",
       "      <td>(StandardScaler(), SVR(C=2.069138081114788, ep...</td>\n",
       "      <td>svm-rbf__features</td>\n",
       "      <td>0.659697</td>\n",
       "      <td>0.726304</td>\n",
       "      <td>2.069138</td>\n",
       "      <td>1.43845</td>\n",
       "    </tr>\n",
       "  </tbody>\n",
       "</table>\n",
       "</div>"
      ],
      "text/plain": [
       "   linReg__fit_intercept                                          model-fit  \\\n",
       "1                    NaN  (StandardScaler(), SVR(C=2.069138081114788, ep...   \n",
       "\n",
       "          model-name  test_score  train_score    svm__C  svm__epsilon  \n",
       "1  svm-rbf__features    0.659697     0.726304  2.069138       1.43845  "
      ]
     },
     "execution_count": 25,
     "metadata": {},
     "output_type": "execute_result"
    }
   ],
   "source": [
    "output.iloc[[-1]]"
   ]
  },
  {
   "cell_type": "code",
   "execution_count": 26,
   "metadata": {},
   "outputs": [
    {
     "data": {
      "image/png": "[encoded data removed]",
      "text/plain": [
       "<Figure size 1400x500 with 2 Axes>"
      ]
     },
     "metadata": {},
     "output_type": "display_data"
    }
   ],
   "source": [
    "plot_pred_vs_ground_truth(y_te, y_te_pred)"
   ]
  },
  {
   "cell_type": "code",
   "execution_count": 27,
   "metadata": {},
   "outputs": [],
   "source": [
    "y_te_pred_svm_rbf = y_te_pred"
   ]
  },
  {
   "cell_type": "markdown",
   "metadata": {},
   "source": [
    "## Model using 2 layers neural network"
   ]
  },
  {
   "cell_type": "code",
   "execution_count": 28,
   "metadata": {},
   "outputs": [],
   "source": [
    "def create_model(activation_in = \"relu\", inner_dim = 64, activation_out = \"sigmoid\", optimizer = \"adam\", loss = \"mean_squared_error\", input_dim = 23, output_dim = 1):\n",
    "  model = Sequential()\n",
    "  model.add(Dense(inner_dim, activation = activation_in, input_dim = input_dim))\n",
    "  model.add(Dense(output_dim, input_dim = inner_dim))\n",
    "  model.compile(optimizer = optimizer, loss = loss, metrics = ['RootMeanSquaredError'])\n",
    "  return model"
   ]
  },
  {
   "cell_type": "markdown",
   "metadata": {},
   "source": [
    "#### Create a grid to vary the neural network parameters and create a KFold object"
   ]
  },
  {
   "cell_type": "code",
   "execution_count": 29,
   "metadata": {},
   "outputs": [],
   "source": [
    "# Define the keys\n",
    "nn_activation_in  = 'nn__activation_in'\n",
    "nn_inner_dim      = 'nn__inner_dim'\n",
    "nn_activation_out = 'nn__activation_out'\n",
    "nn_optimizer      = 'nn__optimizer'\n",
    "nn_loss           = 'nn__loss'\n",
    "nn_batch_size     = 'nn__batch_size'\n",
    "nn_epochs         = 'nn__epochs'\n",
    "\n",
    "# Define the values\n",
    "activations_in  = [\"relu\", \"tanh\", \"sigmoid\", \"softmax\"]\n",
    "inner_dims      = [8, 16, 32, 64]\n",
    "activations_out = [\"-----\"]\n",
    "optimizers      = [\"adam\"]\n",
    "losses          = [\"mean_absolute_error\", \"mean_squared_error\"]\n",
    "batch_sizes     = [2, 4, 8, 16]\n",
    "epochs          = [1000]\n",
    "\n",
    "# Define a grid of values\n",
    "nn_grid_dict = { \n",
    "  nn_activation_in:  activations_in,\n",
    "  nn_inner_dim:      inner_dims,\n",
    "  nn_activation_out: activations_out,\n",
    "  nn_optimizer:      optimizers,\n",
    "  nn_loss:           losses,\n",
    "  nn_batch_size:     batch_sizes,\n",
    "  nn_epochs:         epochs\n",
    "}\n",
    "\n",
    "nn_grid = ParameterGrid(nn_grid_dict)\n",
    "\n",
    "early_stopping = keras.callbacks.EarlyStopping(monitor = 'val_loss', patience = 10, min_delta = 0.05, restore_best_weights = True, verbose = 2)\n",
    "\n",
    "# create a KFold object\n",
    "kfold = KFold(n_splits = Nruns, random_state = random_state, shuffle = shuffle)"
   ]
  },
  {
   "cell_type": "markdown",
   "metadata": {},
   "source": [
    "#### Create a function to perform cross validation and save scores"
   ]
  },
  {
   "cell_type": "code",
   "execution_count": 30,
   "metadata": {},
   "outputs": [],
   "source": [
    "def get_scores(grid, X_tr, y_tr, shuffle = False, callbacks = None, verbose = 0):\n",
    "  tf.random.set_seed(0)\n",
    "  \n",
    "  scores = []\n",
    "  \n",
    "  for params_dict in grid:\n",
    "    print(params_dict)\n",
    "    \n",
    "    train_accuracy, valid_accuracy = [], []\n",
    "\n",
    "    for train_index, valid_index in kfold.split(X_tr, y_tr):\n",
    "      \n",
    "      X_train, X_valid = X_tr[train_index], X_tr[valid_index]\n",
    "      y_train, y_valid = y_tr[train_index], y_tr[valid_index]\n",
    "\n",
    "      scaler = StandardScaler()\n",
    "      X_train = scaler.fit_transform(X_train)\n",
    "      X_valid = scaler.transform(X_valid)\n",
    "  \n",
    "      model = create_model(activation_in = params_dict[nn_activation_in], inner_dim = params_dict[nn_inner_dim], activation_out = params_dict[nn_activation_out],  \n",
    "                           optimizer = params_dict[nn_optimizer], loss = params_dict[nn_loss], input_dim = X_train.shape[1], output_dim = 1)\n",
    "          \n",
    "      history = model.fit(X_train, y_train, batch_size = params_dict[nn_batch_size], epochs = params_dict[nn_epochs], shuffle = shuffle, verbose = verbose, callbacks = callbacks, validation_data = (X_valid, y_valid), validation_freq = 1)\n",
    "           \n",
    "      train_R2 = 1 - np.sum((y_train - model.predict(X_train).flatten())**2) / np.sum((y_train - np.mean(y_train))**2)   \n",
    "      valid_R2 = 1 - np.sum((y_valid - model.predict(X_valid).flatten())**2) / np.sum((y_valid - np.mean(y_valid))**2)\n",
    "      \n",
    "      train_accuracy.append(train_R2)\n",
    "      valid_accuracy.append(valid_R2)\n",
    "    \n",
    "    mean_train_acc = np.mean(np.array(train_accuracy))\n",
    "    std_train_acc  = np.std(np.array(train_accuracy))\n",
    "  \n",
    "    mean_valid_acc = np.mean(np.array(valid_accuracy))\n",
    "    std_valid_acc  = np.std(np.array(valid_accuracy))\n",
    "  \n",
    "    params_dict[\"mean_train_accuracy\"] = mean_train_acc\n",
    "    params_dict[\"std_train_accuracy\"]  = std_train_acc\n",
    "  \n",
    "    params_dict[\"mean_valid_accuracy\"] = mean_valid_acc\n",
    "    params_dict[\"std_valid_accuracy\"]  = std_valid_acc\n",
    "  \n",
    "    scores.append(params_dict)\n",
    "\n",
    "  # sort scores according to the mean validation accuracy\n",
    "  scores = pd.DataFrame(scores)\n",
    "  sorted_scores = scores.sort_values(by = 'mean_valid_accuracy', ascending = False)\n",
    "  \n",
    "  return scores, sorted_scores"
   ]
  },
  {
   "cell_type": "markdown",
   "metadata": {},
   "source": [
    "#### Create a function that get the best score and append it to the dataframe containing all scores"
   ]
  },
  {
   "cell_type": "code",
   "execution_count": 31,
   "metadata": {},
   "outputs": [],
   "source": [
    "def get_best_params(X_tr, X_te, y_tr, y_te, sorted_scores, name, output, shuffle = False, callbacks = None, verbose = 0):\n",
    "  tf.random.set_seed(0)\n",
    "  \n",
    "  best_params = {nn_activation_in:sorted_scores.iloc[0][nn_activation_in], nn_inner_dim:sorted_scores.iloc[0][nn_inner_dim],\n",
    "                 nn_activation_out:sorted_scores.iloc[0][nn_activation_out],  nn_optimizer: sorted_scores.iloc[0][nn_optimizer], nn_loss: sorted_scores.iloc[0][nn_loss],  \n",
    "                 nn_batch_size: sorted_scores.iloc[0][nn_batch_size], nn_epochs: sorted_scores.iloc[0][nn_epochs]}\n",
    " \n",
    "  scaler = StandardScaler()\n",
    "  X_tr = scaler.fit_transform(X_tr)\n",
    "  X_te = scaler.transform(X_te)\n",
    "  \n",
    "  model = create_model(activation_in = best_params[nn_activation_in], inner_dim = best_params[nn_inner_dim], activation_out = best_params[nn_activation_out],  \n",
    "                           optimizer = best_params[nn_optimizer], loss = best_params[nn_loss], input_dim = X_tr.shape[1], output_dim = 1)\n",
    "  \n",
    "  history = model.fit(X_tr, y_tr, batch_size = best_params[nn_batch_size], epochs = best_params[nn_epochs], shuffle = shuffle, verbose = verbose, callbacks = callbacks, validation_data = (X_te, y_te), validation_freq = 1)\n",
    " \n",
    "  y_tr_pred = model.predict(X_tr).flatten()\n",
    "  y_te_pred = model.predict(X_te).flatten()\n",
    "\n",
    "  data = {}\n",
    "  data[\"model-name\"]         = \"neural-net-two-layers__\" + name\n",
    "  data[\"scaler-fit\"]         = scaler\n",
    "  data[\"model-fit\"]          = model\n",
    "  data[nn_activation_in]     = best_params[nn_activation_in]\n",
    "  data[nn_inner_dim]         = best_params[nn_inner_dim]\n",
    "  data[nn_activation_out]    = best_params[nn_activation_out]\n",
    "  data[nn_optimizer]         = best_params[nn_optimizer]\n",
    "  data[nn_loss]              = best_params[nn_loss]\n",
    "  data[nn_batch_size]        = best_params[nn_batch_size]\n",
    "  data[nn_epochs]            = best_params[nn_epochs]\n",
    "  data[\"train_score\"]        = 1 - np.sum((y_tr - y_tr_pred)**2) / np.sum((y_tr - np.mean(y_tr))**2)\n",
    "  data[\"test_score\"]         = 1 - np.sum((y_te - y_te_pred)**2) / np.sum((y_te - np.mean(y_te))**2)\n",
    "  data[\"history\"]            = history\n",
    "  \n",
    "  output = output.append(data, ignore_index = True)\n",
    "  return history, y_tr_pred, y_te_pred, output"
   ]
  },
  {
   "cell_type": "code",
   "execution_count": null,
   "metadata": {},
   "outputs": [
    {
     "name": "stdout",
     "output_type": "stream",
     "text": [
      "{'nn__activation_in': 'relu', 'nn__activation_out': '-----', 'nn__batch_size': 2, 'nn__epochs': 1000, 'nn__inner_dim': 8, 'nn__loss': 'mean_absolute_error', 'nn__optimizer': 'adam'}\n",
      "Restoring model weights from the end of the best epoch.\n",
      "Epoch 00074: early stopping\n",
      "Restoring model weights from the end of the best epoch.\n",
      "Epoch 00074: early stopping\n",
      "Restoring model weights from the end of the best epoch.\n",
      "Epoch 00062: early stopping\n",
      "Restoring model weights from the end of the best epoch.\n",
      "Epoch 00073: early stopping\n",
      "Restoring model weights from the end of the best epoch.\n",
      "Epoch 00058: early stopping\n",
      "{'nn__activation_in': 'relu', 'nn__activation_out': '-----', 'nn__batch_size': 2, 'nn__epochs': 1000, 'nn__inner_dim': 8, 'nn__loss': 'mean_squared_error', 'nn__optimizer': 'adam'}\n",
      "Restoring model weights from the end of the best epoch.\n",
      "Epoch 00100: early stopping\n",
      "Restoring model weights from the end of the best epoch.\n",
      "Epoch 00110: early stopping\n",
      "Restoring model weights from the end of the best epoch.\n",
      "Epoch 00074: early stopping\n",
      "Restoring model weights from the end of the best epoch.\n",
      "Epoch 00130: early stopping\n",
      "Restoring model weights from the end of the best epoch.\n",
      "Epoch 00102: early stopping\n",
      "{'nn__activation_in': 'relu', 'nn__activation_out': '-----', 'nn__batch_size': 2, 'nn__epochs': 1000, 'nn__inner_dim': 16, 'nn__loss': 'mean_absolute_error', 'nn__optimizer': 'adam'}\n",
      "Restoring model weights from the end of the best epoch.\n",
      "Epoch 00060: early stopping\n",
      "Restoring model weights from the end of the best epoch.\n",
      "Epoch 00069: early stopping\n",
      "Restoring model weights from the end of the best epoch.\n",
      "Epoch 00043: early stopping\n",
      "Restoring model weights from the end of the best epoch.\n",
      "Epoch 00055: early stopping\n",
      "Restoring model weights from the end of the best epoch.\n",
      "Epoch 00038: early stopping\n",
      "{'nn__activation_in': 'relu', 'nn__activation_out': '-----', 'nn__batch_size': 2, 'nn__epochs': 1000, 'nn__inner_dim': 16, 'nn__loss': 'mean_squared_error', 'nn__optimizer': 'adam'}\n",
      "Restoring model weights from the end of the best epoch.\n",
      "Epoch 00092: early stopping\n",
      "Restoring model weights from the end of the best epoch.\n",
      "Epoch 00113: early stopping\n",
      "Restoring model weights from the end of the best epoch.\n",
      "Epoch 00060: early stopping\n",
      "Restoring model weights from the end of the best epoch.\n",
      "Epoch 00087: early stopping\n",
      "Restoring model weights from the end of the best epoch.\n",
      "Epoch 00078: early stopping\n",
      "{'nn__activation_in': 'relu', 'nn__activation_out': '-----', 'nn__batch_size': 2, 'nn__epochs': 1000, 'nn__inner_dim': 32, 'nn__loss': 'mean_absolute_error', 'nn__optimizer': 'adam'}\n",
      "Restoring model weights from the end of the best epoch.\n",
      "Epoch 00036: early stopping\n",
      "Restoring model weights from the end of the best epoch.\n",
      "Epoch 00035: early stopping\n",
      "Restoring model weights from the end of the best epoch.\n",
      "Epoch 00033: early stopping\n",
      "Restoring model weights from the end of the best epoch.\n",
      "Epoch 00048: early stopping\n",
      "Restoring model weights from the end of the best epoch.\n",
      "Epoch 00034: early stopping\n",
      "{'nn__activation_in': 'relu', 'nn__activation_out': '-----', 'nn__batch_size': 2, 'nn__epochs': 1000, 'nn__inner_dim': 32, 'nn__loss': 'mean_squared_error', 'nn__optimizer': 'adam'}\n",
      "Restoring model weights from the end of the best epoch.\n",
      "Epoch 00067: early stopping\n",
      "Restoring model weights from the end of the best epoch.\n",
      "Epoch 00094: early stopping\n",
      "Restoring model weights from the end of the best epoch.\n",
      "Epoch 00052: early stopping\n",
      "Restoring model weights from the end of the best epoch.\n",
      "Epoch 00069: early stopping\n",
      "Restoring model weights from the end of the best epoch.\n",
      "Epoch 00056: early stopping\n",
      "{'nn__activation_in': 'relu', 'nn__activation_out': '-----', 'nn__batch_size': 2, 'nn__epochs': 1000, 'nn__inner_dim': 64, 'nn__loss': 'mean_absolute_error', 'nn__optimizer': 'adam'}\n",
      "Restoring model weights from the end of the best epoch.\n",
      "Epoch 00029: early stopping\n",
      "Restoring model weights from the end of the best epoch.\n",
      "Epoch 00034: early stopping\n",
      "Restoring model weights from the end of the best epoch.\n",
      "Epoch 00030: early stopping\n",
      "Restoring model weights from the end of the best epoch.\n",
      "Epoch 00038: early stopping\n",
      "Restoring model weights from the end of the best epoch.\n",
      "Epoch 00027: early stopping\n",
      "{'nn__activation_in': 'relu', 'nn__activation_out': '-----', 'nn__batch_size': 2, 'nn__epochs': 1000, 'nn__inner_dim': 64, 'nn__loss': 'mean_squared_error', 'nn__optimizer': 'adam'}\n",
      "Restoring model weights from the end of the best epoch.\n",
      "Epoch 00059: early stopping\n",
      "Restoring model weights from the end of the best epoch.\n",
      "Epoch 00090: early stopping\n",
      "Restoring model weights from the end of the best epoch.\n",
      "Epoch 00042: early stopping\n",
      "Restoring model weights from the end of the best epoch.\n",
      "Epoch 00057: early stopping\n",
      "Restoring model weights from the end of the best epoch.\n",
      "Epoch 00048: early stopping\n",
      "{'nn__activation_in': 'relu', 'nn__activation_out': '-----', 'nn__batch_size': 4, 'nn__epochs': 1000, 'nn__inner_dim': 8, 'nn__loss': 'mean_absolute_error', 'nn__optimizer': 'adam'}\n",
      "Restoring model weights from the end of the best epoch.\n",
      "Epoch 00100: early stopping\n",
      "Restoring model weights from the end of the best epoch.\n",
      "Epoch 00110: early stopping\n",
      "Restoring model weights from the end of the best epoch.\n",
      "Epoch 00107: early stopping\n",
      "Restoring model weights from the end of the best epoch.\n",
      "Epoch 00072: early stopping\n",
      "Restoring model weights from the end of the best epoch.\n",
      "Epoch 00083: early stopping\n",
      "{'nn__activation_in': 'relu', 'nn__activation_out': '-----', 'nn__batch_size': 4, 'nn__epochs': 1000, 'nn__inner_dim': 8, 'nn__loss': 'mean_squared_error', 'nn__optimizer': 'adam'}\n",
      "Restoring model weights from the end of the best epoch.\n",
      "Epoch 00187: early stopping\n",
      "Restoring model weights from the end of the best epoch.\n",
      "Epoch 00171: early stopping\n",
      "Restoring model weights from the end of the best epoch.\n",
      "Epoch 00137: early stopping\n",
      "Restoring model weights from the end of the best epoch.\n",
      "Epoch 00190: early stopping\n",
      "Restoring model weights from the end of the best epoch.\n",
      "Epoch 00176: early stopping\n",
      "{'nn__activation_in': 'relu', 'nn__activation_out': '-----', 'nn__batch_size': 4, 'nn__epochs': 1000, 'nn__inner_dim': 16, 'nn__loss': 'mean_absolute_error', 'nn__optimizer': 'adam'}\n",
      "Restoring model weights from the end of the best epoch.\n",
      "Epoch 00052: early stopping\n",
      "Restoring model weights from the end of the best epoch.\n",
      "Epoch 00073: early stopping\n",
      "Restoring model weights from the end of the best epoch.\n",
      "Epoch 00066: early stopping\n"
     ]
    }
   ],
   "source": [
    "scores, sorted_scores = get_scores(nn_grid, X_tr, y_tr, shuffle = shuffle, callbacks = [early_stopping], verbose = verbose)"
   ]
  },
  {
   "cell_type": "code",
   "execution_count": null,
   "metadata": {},
   "outputs": [],
   "source": [
    "history, y_tr_pred, y_te_pred, output = get_best_params(X_tr, X_te, y_tr, y_te, sorted_scores, \"features\", output, shuffle = shuffle, callbacks = [early_stopping], verbose = verbose)"
   ]
  },
  {
   "cell_type": "code",
   "execution_count": null,
   "metadata": {},
   "outputs": [],
   "source": [
    "output.iloc[[-1]]"
   ]
  },
  {
   "cell_type": "code",
   "execution_count": null,
   "metadata": {},
   "outputs": [],
   "source": [
    "plot_pred_vs_ground_truth(y_te, y_te_pred)"
   ]
  },
  {
   "cell_type": "code",
   "execution_count": null,
   "metadata": {},
   "outputs": [],
   "source": [
    "plot_loss_acc(history)"
   ]
  },
  {
   "cell_type": "code",
   "execution_count": null,
   "metadata": {},
   "outputs": [],
   "source": [
    "y_te_pred_nn2 = y_te_pred"
   ]
  },
  {
   "cell_type": "code",
   "execution_count": null,
   "metadata": {},
   "outputs": [],
   "source": []
  }
 ],
 "metadata": {
  "kernelspec": {
   "display_name": "Python 3",
   "language": "python",
   "name": "python3"
  },
  "language_info": {
   "codemirror_mode": {
    "name": "ipython",
    "version": 3
   },
   "file_extension": ".py",
   "mimetype": "text/x-python",
   "name": "python",
   "nbconvert_exporter": "python",
   "pygments_lexer": "ipython3",
   "version": "3.8.3"
  }
 },
 "nbformat": 4,
 "nbformat_minor": 4
}
